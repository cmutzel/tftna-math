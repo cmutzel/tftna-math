{
 "cells": [
  {
   "cell_type": "code",
   "execution_count": 1,
   "metadata": {
    "collapsed": false
   },
   "outputs": [
    {
     "ename": "ImportError",
     "evalue": "No module named src.products.weekly_activity_totals",
     "output_type": "error",
     "traceback": [
      "\u001b[0;31m---------------------------------------------------------------------------\u001b[0m",
      "\u001b[0;31mImportError\u001b[0m                               Traceback (most recent call last)",
      "\u001b[0;32m<ipython-input-1-17d8c931c545>\u001b[0m in \u001b[0;36m<module>\u001b[0;34m()\u001b[0m\n\u001b[1;32m      9\u001b[0m \u001b[0;32mimport\u001b[0m \u001b[0mmatplotlib\u001b[0m\u001b[0;34m.\u001b[0m\u001b[0mpyplot\u001b[0m \u001b[0;32mas\u001b[0m \u001b[0mplt\u001b[0m\u001b[0;34m\u001b[0m\u001b[0m\n\u001b[1;32m     10\u001b[0m \u001b[0;34m\u001b[0m\u001b[0m\n\u001b[0;32m---> 11\u001b[0;31m \u001b[0;32mfrom\u001b[0m \u001b[0msrc\u001b[0m\u001b[0;34m.\u001b[0m\u001b[0mproducts\u001b[0m\u001b[0;34m.\u001b[0m\u001b[0mweekly_activity_totals\u001b[0m \u001b[0;32mimport\u001b[0m \u001b[0mread_weekly_totals\u001b[0m\u001b[0;34m\u001b[0m\u001b[0m\n\u001b[0m\u001b[1;32m     12\u001b[0m \u001b[0;34m\u001b[0m\u001b[0m\n\u001b[1;32m     13\u001b[0m \u001b[0mweekly_totals\u001b[0m \u001b[0;34m=\u001b[0m \u001b[0mread_weekly_totals\u001b[0m\u001b[0;34m(\u001b[0m\u001b[0;34m)\u001b[0m\u001b[0;34m\u001b[0m\u001b[0m\n",
      "\u001b[0;31mImportError\u001b[0m: No module named src.products.weekly_activity_totals"
     ]
    }
   ],
   "source": [
    "# -*- coding: utf-8 -*-\n",
    "\"\"\"\n",
    "Spyder Editor\n",
    "\n",
    "This is a temporary script file.\n",
    "\"\"\"\n",
    "\n",
    "import numpy as np\n",
    "import matplotlib.pyplot as plt\n",
    "\n",
    "from src.products.weekly_activity_totals import read_weekly_totals\n",
    "\n",
    "weekly_totals = read_weekly_totals()\n",
    "\n",
    "weekly_totals = weekly_totals.fillna(value=0)\n",
    "weekly_totals[\"zone_1,2\"] = (((weekly_totals[\"zone_1\"] + weekly_totals[\"zone_2\"]) * \n",
    " (weekly_totals[\"zone_1,2\"] == 0) * 1) + weekly_totals[\"zone_1,2\"])\n",
    "del weekly_totals[\"zone_1\"]\n",
    "del weekly_totals[\"zone_2\"]\n",
    "\n",
    "# -------\n",
    "# plot as bar heights \n",
    "f, axarr = plt.subplots(2, sharex=True)\n",
    "plot1_rects = []\n",
    "plot2_rects = []\n",
    "width = 0.5\n",
    "#fig, ax = plt.subplots()\n",
    "plot1_cols = [c for c in weekly_totals.columns if \"activity_\" in c]\n",
    "plot2_cols = [c for c in weekly_totals.columns if \"zone_\" in c]\n",
    "for i, col_name in enumerate(plot1_cols): \n",
    "    if \"activity\" in col_name:\n",
    "        if i == 0:\n",
    "            plot1_rects.append(axarr[0].bar(weekly_totals.index, weekly_totals[col_name]))\n",
    "            last = weekly_totals[col_name]\n",
    "        else:\n",
    "            plot1_rects.append(axarr[0].bar(weekly_totals.index, weekly_totals[col_name], bottom=last))\n",
    "            last = last + weekly_totals[col_name]\n",
    "plot1_refs = [r[0] for r in plot1_rects]\n",
    "plot1_labels = [c.replace(\"activity_\", \"\") for c in plot1_cols]\n",
    "\n",
    "for i, col_name in enumerate(plot2_cols): \n",
    "    if \"zone\" in col_name:\n",
    "        if i == 0:\n",
    "            plot1_rects.append(axarr[1].bar(weekly_totals.index, weekly_totals[col_name]))\n",
    "            last = weekly_totals[col_name]\n",
    "        else:\n",
    "            plot1_rects.append(axarr[1].bar(weekly_totals.index, weekly_totals[col_name], bottom=last))\n",
    "            last = last + weekly_totals[col_name]\n",
    "plot2_refs = [r[0] for r in plot1_rects]\n",
    "plot2_labels = [c.replace(\"activity_\", \"\") for c in plot2_cols]\n",
    "\n",
    "axarr[0].set_title('Weekly training totals')\n",
    "axarr[0].set_ylabel('Training hours')\n",
    "axarr[0].legend(plot1_refs, plot1_labels)\n",
    "axarr[0].set_ylim(0, 23)\n",
    "axarr[1].set_ylabel('Training hours')\n",
    "axarr[1].set_xlabel('Week #')\n",
    "axarr[1].set_ylim(0, 20)\n",
    "axarr[1].legend(plot2_refs, plot2_labels)\n",
    "\n",
    "#plt.yticks(np.arange(0, max(weekly_totals[\"total\"] + 3), 2))\n",
    "fig.show()\n",
    "\n",
    "\n",
    "    "
   ]
  },
  {
   "cell_type": "code",
   "execution_count": 4,
   "metadata": {
    "collapsed": false
   },
   "outputs": [
    {
     "ename": "AttributeError",
     "evalue": "'module' object has no attribute 'cd'",
     "output_type": "error",
     "traceback": [
      "\u001b[0;31m---------------------------------------------------------------------------\u001b[0m",
      "\u001b[0;31mAttributeError\u001b[0m                            Traceback (most recent call last)",
      "\u001b[0;32m<ipython-input-4-8054e07c1c2e>\u001b[0m in \u001b[0;36m<module>\u001b[0;34m()\u001b[0m\n\u001b[1;32m      1\u001b[0m \u001b[0;32mimport\u001b[0m \u001b[0mos\u001b[0m\u001b[0;34m\u001b[0m\u001b[0m\n\u001b[0;32m----> 2\u001b[0;31m \u001b[0;32mprint\u001b[0m \u001b[0mos\u001b[0m\u001b[0;34m.\u001b[0m\u001b[0mcd\u001b[0m\u001b[0;34m(\u001b[0m\u001b[0;34m\"/Users/chrismutzel/projects/tftna-math\"\u001b[0m\u001b[0;34m)\u001b[0m\u001b[0;34m\u001b[0m\u001b[0m\n\u001b[0m",
      "\u001b[0;31mAttributeError\u001b[0m: 'module' object has no attribute 'cd'"
     ]
    }
   ],
   "source": [
    "import os\n",
    "print os.cd(\"/Users/chrismutzel/projects/tftna-math\")\n"
   ]
  },
  {
   "cell_type": "code",
   "execution_count": null,
   "metadata": {
    "collapsed": true
   },
   "outputs": [],
   "source": []
  }
 ],
 "metadata": {
  "kernelspec": {
   "display_name": "Python 2",
   "language": "python",
   "name": "python2"
  },
  "language_info": {
   "codemirror_mode": {
    "name": "ipython",
    "version": 2
   },
   "file_extension": ".py",
   "mimetype": "text/x-python",
   "name": "python",
   "nbconvert_exporter": "python",
   "pygments_lexer": "ipython2",
   "version": "2.7.13"
  }
 },
 "nbformat": 4,
 "nbformat_minor": 2
}
